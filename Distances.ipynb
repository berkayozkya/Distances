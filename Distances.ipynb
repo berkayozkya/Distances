{
  "cells": [
    {
      "cell_type": "code",
      "execution_count": null,
      "metadata": {
        "id": "GQ36uPS8kduA"
      },
      "outputs": [],
      "source": [
        "from math import*\n"
      ]
    },
    {
      "cell_type": "markdown",
      "metadata": {
        "id": "lC1CtriUxDv3"
      },
      "source": [
        "# Euclidean Distance"
      ]
    },
    {
      "cell_type": "code",
      "execution_count": null,
      "metadata": {
        "colab": {
          "base_uri": "https://localhost:8080/"
        },
        "id": "HyLIPPIKxEMb",
        "outputId": "9e9f56ac-5a37-4e29-fd10-35c9771c7053"
      },
      "outputs": [
        {
          "name": "stdout",
          "output_type": "stream",
          "text": [
            "İLK NOKTA A\n",
            "4 5\n",
            "İKİNCİ NOKTA B\n",
            "5 6\n",
            "Euclidean Distance 1.4142135623730951\n"
          ]
        }
      ],
      "source": [
        "\n",
        "print(\"İLK NOKTA A\")\n",
        "x1, y1 = map(int, input().split())\n",
        "print(\"İKİNCİ NOKTA B\")\n",
        "x2, y2 = map(int, input().split())\n",
        "dist = math.sqrt((x2-x1)**2 + (y2-y1)**2)\n",
        "print(\"Euclidean Distance \" + str(dist))"
      ]
    },
    {
      "cell_type": "code",
      "execution_count": null,
      "metadata": {
        "colab": {
          "base_uri": "https://localhost:8080/"
        },
        "id": "cHxlhH_6-qvO",
        "outputId": "6d32da19-8300-4cba-9e35-3af758d3b8ab"
      },
      "outputs": [
        {
          "name": "stdout",
          "output_type": "stream",
          "text": [
            "Euclidean Distance 3.1622776601683795\n"
          ]
        }
      ],
      "source": [
        "import numpy as np\n",
        "p1 = np.array((5,4))\n",
        "p2 = np.array((4,7))\n",
        "sq = np.sum(np.square(p1 - p2))\n",
        "print(\"Euclidean Distance \" + str(np.sqrt(sq)))\n"
      ]
    },
    {
      "cell_type": "markdown",
      "metadata": {
        "id": "d0RW8V9GxT4y"
      },
      "source": [
        "#Cosine Similarity"
      ]
    },
    {
      "cell_type": "code",
      "execution_count": null,
      "metadata": {
        "colab": {
          "base_uri": "https://localhost:8080/"
        },
        "id": "xmkBfamLzESu",
        "outputId": "b9b52c54-6c98-4d79-f434-fe51589e67a2"
      },
      "outputs": [
        {
          "name": "stdout",
          "output_type": "stream",
          "text": [
            "İLK NOKTA A\n",
            "5 47 8\n",
            "İKİNCİ NOKTA B\n",
            "5 6 8\n",
            "Cosine Similarity 0.6922195982126591\n"
          ]
        }
      ],
      "source": [
        "from numpy import dot\n",
        "\n",
        "print(\"İLK NOKTA A\")\n",
        "x1, y1, z1 = map(int, input().split())\n",
        "print(\"İKİNCİ NOKTA B\")\n",
        "x2, y2, z2 = map(int, input().split())\n",
        "List1 = [x1, y1, z1]\n",
        "List2 = [x2, y2, z2]\n",
        "dist = dot(List1, List2)/((math.sqrt((x1**2)+(y1**2)+(z1**2)))*(math.sqrt((x2**2)+(y2**2)+(z2**2))))\n",
        "\n",
        "print(\"Cosine Similarity \" + str(dist))"
      ]
    },
    {
      "cell_type": "markdown",
      "metadata": {
        "id": "missCNJq8Av7"
      },
      "source": [
        "#Manhattan Distance"
      ]
    },
    {
      "cell_type": "code",
      "execution_count": null,
      "metadata": {
        "colab": {
          "base_uri": "https://localhost:8080/"
        },
        "id": "doqpKjz89mXG",
        "outputId": "9027ce0b-3e00-47a7-d9f4-c71e41367f8a"
      },
      "outputs": [
        {
          "name": "stdout",
          "output_type": "stream",
          "text": [
            "Euclidean Distance 63\n"
          ]
        }
      ],
      "source": [
        "import numpy as np\n",
        "p1 = np.array((1,2,3,4,5,6))\n",
        "p2 = np.array((10,20,30,1,2,3))\n",
        "md = p1-p2\n",
        "print(\"Euclidean Distance \" + str (np.sum(abs(md))))\n"
      ]
    },
    {
      "cell_type": "markdown",
      "metadata": {
        "id": "dMQ9_A10A0ii"
      },
      "source": [
        "# Minkowski"
      ]
    },
    {
      "cell_type": "code",
      "execution_count": null,
      "metadata": {
        "colab": {
          "base_uri": "https://localhost:8080/"
        },
        "id": "UkqFkXX2lQTx",
        "outputId": "369d3db0-825f-4ba5-a8f8-c949a1496578"
      },
      "outputs": [
        {
          "name": "stdout",
          "output_type": "stream",
          "text": [
            "13.0\n"
          ]
        }
      ],
      "source": [
        "from math import sqrt\n",
        "\n",
        "def minkowski(a, b, p):\n",
        " return sum(abs(e1-e2)**p for e1, e2 in zip(a,b))**(1/p)\n",
        "\n",
        "vector1 = [10, 20, 15, 10, 5]\n",
        "vector2 = [12, 24, 18, 8, 7]\n",
        "\n",
        "dist = minkowski(vector1, vector2, 1)\n",
        "print(dist)\n"
      ]
    },
    {
      "cell_type": "markdown",
      "metadata": {
        "id": "CZxNU5nzeeXK"
      },
      "source": [
        "# Hamming Distance"
      ]
    },
    {
      "cell_type": "code",
      "execution_count": null,
      "metadata": {
        "colab": {
          "base_uri": "https://localhost:8080/"
        },
        "id": "uHEqW4x2eg2n",
        "outputId": "2dc1022c-4983-4fc6-ddcf-44e55c38cda9"
      },
      "outputs": [
        {
          "name": "stdout",
          "output_type": "stream",
          "text": [
            "2\n"
          ]
        }
      ],
      "source": [
        "def hamming_distance(a,b):\n",
        "    return sum(abs(e1-e2) for e1, e2 in zip(a,b)) \n",
        "liste1 = [0,0,0,0,0,1]\n",
        "liste2 = [0,0,0,0,1,0]\n",
        "\n",
        "dist = hamming_distance(liste1, liste2)\n",
        "print(dist)"
      ]
    },
    {
      "cell_type": "markdown",
      "metadata": {
        "id": "MrDxt9v1ToN8"
      },
      "source": [
        "#Corralation"
      ]
    },
    {
      "cell_type": "code",
      "execution_count": null,
      "metadata": {
        "colab": {
          "base_uri": "https://localhost:8080/",
          "height": 208
        },
        "id": "0Sa27tkyTrBZ",
        "outputId": "be3b07ae-10b8-4c34-eb42-f558e7124212"
      },
      "outputs": [],
      "source": [
        "def Standard_Deviatoin(u):\n",
        "  mean = sum(u)/len(u)\n",
        "  total = 0\n",
        "  for i in u:\n",
        "    total += ((mean-i) ** 2)\n",
        "  return sqrt(total/(len(u)-1))\n",
        "print(\"U= \",u,\"\\nStandard Deviatoin(U)= \",Standard_Deviatoin(u))"
      ]
    }
  ],
  "metadata": {
    "colab": {
      "provenance": []
    },
    "kernelspec": {
      "display_name": "Python 3",
      "name": "python3"
    },
    "language_info": {
      "name": "python"
    }
  },
  "nbformat": 4,
  "nbformat_minor": 0
}
